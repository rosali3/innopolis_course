{
  "nbformat": 4,
  "nbformat_minor": 0,
  "metadata": {
    "kernelspec": {
      "display_name": "Python 3",
      "language": "python",
      "name": "python3"
    },
    "language_info": {
      "codemirror_mode": {
        "name": "ipython",
        "version": 3
      },
      "file_extension": ".py",
      "mimetype": "text/x-python",
      "name": "python",
      "nbconvert_exporter": "python",
      "pygments_lexer": "ipython3",
      "version": "3.7.4"
    },
    "toc": {
      "base_numbering": 1,
      "nav_menu": {},
      "number_sections": true,
      "sideBar": true,
      "skip_h1_title": false,
      "title_cell": "Table of Contents",
      "title_sidebar": "Contents",
      "toc_cell": false,
      "toc_position": {
        "height": "calc(100% - 180px)",
        "left": "10px",
        "top": "150px",
        "width": "165px"
      },
      "toc_section_display": true,
      "toc_window_display": true
    },
    "colab": {
      "provenance": []
    }
  },
  "cells": [
    {
      "cell_type": "markdown",
      "source": [
        "# ЛИНЕЙНАЯ РЕГРЕССИЯ \n",
        "\n",
        "Набиуллина Розалия"
      ],
      "metadata": {
        "id": "V7QMnXpQa--5"
      }
    },
    {
      "cell_type": "markdown",
      "metadata": {
        "id": "hSA1kgiKvrTG"
      },
      "source": [
        "# Набор данных\n",
        "\n",
        "**Оценка стоимости  и типа трансмиссии по данным продаж автомобилей на вторичном рынке Молдавии**"
      ]
    },
    {
      "cell_type": "markdown",
      "metadata": {
        "id": "GjqQDt2hvrTL"
      },
      "source": [
        "## Импорт библиотек"
      ]
    },
    {
      "cell_type": "code",
      "metadata": {
        "id": "W1M6Kfo6vrTM"
      },
      "source": [
        "import pandas as pd\n",
        "from google.colab import files \n",
        "\n",
        "import numpy as np\n",
        "import matplotlib.pyplot as plt \n",
        "import seaborn as sns; \n",
        "\n",
        "from sklearn.model_selection import train_test_split\n",
        "from sklearn.preprocessing import MinMaxScaler\n",
        "from sklearn.preprocessing import StandardScaler"
      ],
      "execution_count": 1,
      "outputs": []
    },
    {
      "cell_type": "markdown",
      "metadata": {
        "id": "uedX35hnsN7x"
      },
      "source": [
        "## Загрузка данных на Google Drive"
      ]
    },
    {
      "cell_type": "code",
      "metadata": {
        "id": "zT1QSzWprKTA",
        "colab": {
          "base_uri": "https://localhost:8080/",
          "height": 73
        },
        "outputId": "f63b87e5-57b0-4534-b4e9-22d9635eb950"
      },
      "source": [
        "uploaded = files.upload()"
      ],
      "execution_count": 2,
      "outputs": [
        {
          "output_type": "display_data",
          "data": {
            "text/plain": [
              "<IPython.core.display.HTML object>"
            ],
            "text/html": [
              "\n",
              "     <input type=\"file\" id=\"files-bbd7370d-e428-47ae-b7df-932a41bfc01b\" name=\"files[]\" multiple disabled\n",
              "        style=\"border:none\" />\n",
              "     <output id=\"result-bbd7370d-e428-47ae-b7df-932a41bfc01b\">\n",
              "      Upload widget is only available when the cell has been executed in the\n",
              "      current browser session. Please rerun this cell to enable.\n",
              "      </output>\n",
              "      <script>// Copyright 2017 Google LLC\n",
              "//\n",
              "// Licensed under the Apache License, Version 2.0 (the \"License\");\n",
              "// you may not use this file except in compliance with the License.\n",
              "// You may obtain a copy of the License at\n",
              "//\n",
              "//      http://www.apache.org/licenses/LICENSE-2.0\n",
              "//\n",
              "// Unless required by applicable law or agreed to in writing, software\n",
              "// distributed under the License is distributed on an \"AS IS\" BASIS,\n",
              "// WITHOUT WARRANTIES OR CONDITIONS OF ANY KIND, either express or implied.\n",
              "// See the License for the specific language governing permissions and\n",
              "// limitations under the License.\n",
              "\n",
              "/**\n",
              " * @fileoverview Helpers for google.colab Python module.\n",
              " */\n",
              "(function(scope) {\n",
              "function span(text, styleAttributes = {}) {\n",
              "  const element = document.createElement('span');\n",
              "  element.textContent = text;\n",
              "  for (const key of Object.keys(styleAttributes)) {\n",
              "    element.style[key] = styleAttributes[key];\n",
              "  }\n",
              "  return element;\n",
              "}\n",
              "\n",
              "// Max number of bytes which will be uploaded at a time.\n",
              "const MAX_PAYLOAD_SIZE = 100 * 1024;\n",
              "\n",
              "function _uploadFiles(inputId, outputId) {\n",
              "  const steps = uploadFilesStep(inputId, outputId);\n",
              "  const outputElement = document.getElementById(outputId);\n",
              "  // Cache steps on the outputElement to make it available for the next call\n",
              "  // to uploadFilesContinue from Python.\n",
              "  outputElement.steps = steps;\n",
              "\n",
              "  return _uploadFilesContinue(outputId);\n",
              "}\n",
              "\n",
              "// This is roughly an async generator (not supported in the browser yet),\n",
              "// where there are multiple asynchronous steps and the Python side is going\n",
              "// to poll for completion of each step.\n",
              "// This uses a Promise to block the python side on completion of each step,\n",
              "// then passes the result of the previous step as the input to the next step.\n",
              "function _uploadFilesContinue(outputId) {\n",
              "  const outputElement = document.getElementById(outputId);\n",
              "  const steps = outputElement.steps;\n",
              "\n",
              "  const next = steps.next(outputElement.lastPromiseValue);\n",
              "  return Promise.resolve(next.value.promise).then((value) => {\n",
              "    // Cache the last promise value to make it available to the next\n",
              "    // step of the generator.\n",
              "    outputElement.lastPromiseValue = value;\n",
              "    return next.value.response;\n",
              "  });\n",
              "}\n",
              "\n",
              "/**\n",
              " * Generator function which is called between each async step of the upload\n",
              " * process.\n",
              " * @param {string} inputId Element ID of the input file picker element.\n",
              " * @param {string} outputId Element ID of the output display.\n",
              " * @return {!Iterable<!Object>} Iterable of next steps.\n",
              " */\n",
              "function* uploadFilesStep(inputId, outputId) {\n",
              "  const inputElement = document.getElementById(inputId);\n",
              "  inputElement.disabled = false;\n",
              "\n",
              "  const outputElement = document.getElementById(outputId);\n",
              "  outputElement.innerHTML = '';\n",
              "\n",
              "  const pickedPromise = new Promise((resolve) => {\n",
              "    inputElement.addEventListener('change', (e) => {\n",
              "      resolve(e.target.files);\n",
              "    });\n",
              "  });\n",
              "\n",
              "  const cancel = document.createElement('button');\n",
              "  inputElement.parentElement.appendChild(cancel);\n",
              "  cancel.textContent = 'Cancel upload';\n",
              "  const cancelPromise = new Promise((resolve) => {\n",
              "    cancel.onclick = () => {\n",
              "      resolve(null);\n",
              "    };\n",
              "  });\n",
              "\n",
              "  // Wait for the user to pick the files.\n",
              "  const files = yield {\n",
              "    promise: Promise.race([pickedPromise, cancelPromise]),\n",
              "    response: {\n",
              "      action: 'starting',\n",
              "    }\n",
              "  };\n",
              "\n",
              "  cancel.remove();\n",
              "\n",
              "  // Disable the input element since further picks are not allowed.\n",
              "  inputElement.disabled = true;\n",
              "\n",
              "  if (!files) {\n",
              "    return {\n",
              "      response: {\n",
              "        action: 'complete',\n",
              "      }\n",
              "    };\n",
              "  }\n",
              "\n",
              "  for (const file of files) {\n",
              "    const li = document.createElement('li');\n",
              "    li.append(span(file.name, {fontWeight: 'bold'}));\n",
              "    li.append(span(\n",
              "        `(${file.type || 'n/a'}) - ${file.size} bytes, ` +\n",
              "        `last modified: ${\n",
              "            file.lastModifiedDate ? file.lastModifiedDate.toLocaleDateString() :\n",
              "                                    'n/a'} - `));\n",
              "    const percent = span('0% done');\n",
              "    li.appendChild(percent);\n",
              "\n",
              "    outputElement.appendChild(li);\n",
              "\n",
              "    const fileDataPromise = new Promise((resolve) => {\n",
              "      const reader = new FileReader();\n",
              "      reader.onload = (e) => {\n",
              "        resolve(e.target.result);\n",
              "      };\n",
              "      reader.readAsArrayBuffer(file);\n",
              "    });\n",
              "    // Wait for the data to be ready.\n",
              "    let fileData = yield {\n",
              "      promise: fileDataPromise,\n",
              "      response: {\n",
              "        action: 'continue',\n",
              "      }\n",
              "    };\n",
              "\n",
              "    // Use a chunked sending to avoid message size limits. See b/62115660.\n",
              "    let position = 0;\n",
              "    do {\n",
              "      const length = Math.min(fileData.byteLength - position, MAX_PAYLOAD_SIZE);\n",
              "      const chunk = new Uint8Array(fileData, position, length);\n",
              "      position += length;\n",
              "\n",
              "      const base64 = btoa(String.fromCharCode.apply(null, chunk));\n",
              "      yield {\n",
              "        response: {\n",
              "          action: 'append',\n",
              "          file: file.name,\n",
              "          data: base64,\n",
              "        },\n",
              "      };\n",
              "\n",
              "      let percentDone = fileData.byteLength === 0 ?\n",
              "          100 :\n",
              "          Math.round((position / fileData.byteLength) * 100);\n",
              "      percent.textContent = `${percentDone}% done`;\n",
              "\n",
              "    } while (position < fileData.byteLength);\n",
              "  }\n",
              "\n",
              "  // All done.\n",
              "  yield {\n",
              "    response: {\n",
              "      action: 'complete',\n",
              "    }\n",
              "  };\n",
              "}\n",
              "\n",
              "scope.google = scope.google || {};\n",
              "scope.google.colab = scope.google.colab || {};\n",
              "scope.google.colab._files = {\n",
              "  _uploadFiles,\n",
              "  _uploadFilesContinue,\n",
              "};\n",
              "})(self);\n",
              "</script> "
            ]
          },
          "metadata": {}
        },
        {
          "output_type": "stream",
          "name": "stdout",
          "text": [
            "Saving cars_moldova_cat_num.csv to cars_moldova_cat_num.csv\n"
          ]
        }
      ]
    },
    {
      "cell_type": "markdown",
      "metadata": {
        "id": "6KkCjdKUsHIr"
      },
      "source": [
        "## Считываем файл в DataFrame\n",
        "\n"
      ]
    },
    {
      "cell_type": "markdown",
      "metadata": {
        "id": "yy41LWzK2bsP"
      },
      "source": [
        "метод .read_csv(path,delimiter) "
      ]
    },
    {
      "cell_type": "code",
      "metadata": {
        "id": "aSOyj3trvrTO",
        "colab": {
          "base_uri": "https://localhost:8080/",
          "height": 238
        },
        "outputId": "08860aa6-6b12-4a6d-c76d-51b95fd5fb0a"
      },
      "source": [
        "df = pd.read_csv('/content/cars_moldova_cat_num.csv', delimiter = ',')\n",
        "df.head(6)"
      ],
      "execution_count": 4,
      "outputs": [
        {
          "output_type": "execute_result",
          "data": {
            "text/plain": [
              "   Make  Model  Year  Style  Distance  Engine_capacity(cm3)  Fuel_type  \\\n",
              "0    40     92  2011      4  195000.0                1800.0          2   \n",
              "1    32     62  2014     11  135000.0                1500.0          0   \n",
              "2    32     71  2012     11  110000.0                1500.0          0   \n",
              "3    28     23  2006     11  200000.0                1600.0          3   \n",
              "4    23    124  2000      5  300000.0                2200.0          0   \n",
              "5    42     88  2010     11  290000.0                1390.0          4   \n",
              "\n",
              "   Transmission  Price(euro)       km_year  \n",
              "0             1       7750.0  17727.272727  \n",
              "1             0       8550.0  16875.000000  \n",
              "2             0       6550.0  11000.000000  \n",
              "3             0       4100.0  12500.000000  \n",
              "4             0       3490.0  13636.363636  \n",
              "5             0       5600.0  24166.666667  "
            ],
            "text/html": [
              "\n",
              "  <div id=\"df-293a9e4c-cc46-420a-97cb-e0792e89c005\">\n",
              "    <div class=\"colab-df-container\">\n",
              "      <div>\n",
              "<style scoped>\n",
              "    .dataframe tbody tr th:only-of-type {\n",
              "        vertical-align: middle;\n",
              "    }\n",
              "\n",
              "    .dataframe tbody tr th {\n",
              "        vertical-align: top;\n",
              "    }\n",
              "\n",
              "    .dataframe thead th {\n",
              "        text-align: right;\n",
              "    }\n",
              "</style>\n",
              "<table border=\"1\" class=\"dataframe\">\n",
              "  <thead>\n",
              "    <tr style=\"text-align: right;\">\n",
              "      <th></th>\n",
              "      <th>Make</th>\n",
              "      <th>Model</th>\n",
              "      <th>Year</th>\n",
              "      <th>Style</th>\n",
              "      <th>Distance</th>\n",
              "      <th>Engine_capacity(cm3)</th>\n",
              "      <th>Fuel_type</th>\n",
              "      <th>Transmission</th>\n",
              "      <th>Price(euro)</th>\n",
              "      <th>km_year</th>\n",
              "    </tr>\n",
              "  </thead>\n",
              "  <tbody>\n",
              "    <tr>\n",
              "      <th>0</th>\n",
              "      <td>40</td>\n",
              "      <td>92</td>\n",
              "      <td>2011</td>\n",
              "      <td>4</td>\n",
              "      <td>195000.0</td>\n",
              "      <td>1800.0</td>\n",
              "      <td>2</td>\n",
              "      <td>1</td>\n",
              "      <td>7750.0</td>\n",
              "      <td>17727.272727</td>\n",
              "    </tr>\n",
              "    <tr>\n",
              "      <th>1</th>\n",
              "      <td>32</td>\n",
              "      <td>62</td>\n",
              "      <td>2014</td>\n",
              "      <td>11</td>\n",
              "      <td>135000.0</td>\n",
              "      <td>1500.0</td>\n",
              "      <td>0</td>\n",
              "      <td>0</td>\n",
              "      <td>8550.0</td>\n",
              "      <td>16875.000000</td>\n",
              "    </tr>\n",
              "    <tr>\n",
              "      <th>2</th>\n",
              "      <td>32</td>\n",
              "      <td>71</td>\n",
              "      <td>2012</td>\n",
              "      <td>11</td>\n",
              "      <td>110000.0</td>\n",
              "      <td>1500.0</td>\n",
              "      <td>0</td>\n",
              "      <td>0</td>\n",
              "      <td>6550.0</td>\n",
              "      <td>11000.000000</td>\n",
              "    </tr>\n",
              "    <tr>\n",
              "      <th>3</th>\n",
              "      <td>28</td>\n",
              "      <td>23</td>\n",
              "      <td>2006</td>\n",
              "      <td>11</td>\n",
              "      <td>200000.0</td>\n",
              "      <td>1600.0</td>\n",
              "      <td>3</td>\n",
              "      <td>0</td>\n",
              "      <td>4100.0</td>\n",
              "      <td>12500.000000</td>\n",
              "    </tr>\n",
              "    <tr>\n",
              "      <th>4</th>\n",
              "      <td>23</td>\n",
              "      <td>124</td>\n",
              "      <td>2000</td>\n",
              "      <td>5</td>\n",
              "      <td>300000.0</td>\n",
              "      <td>2200.0</td>\n",
              "      <td>0</td>\n",
              "      <td>0</td>\n",
              "      <td>3490.0</td>\n",
              "      <td>13636.363636</td>\n",
              "    </tr>\n",
              "    <tr>\n",
              "      <th>5</th>\n",
              "      <td>42</td>\n",
              "      <td>88</td>\n",
              "      <td>2010</td>\n",
              "      <td>11</td>\n",
              "      <td>290000.0</td>\n",
              "      <td>1390.0</td>\n",
              "      <td>4</td>\n",
              "      <td>0</td>\n",
              "      <td>5600.0</td>\n",
              "      <td>24166.666667</td>\n",
              "    </tr>\n",
              "  </tbody>\n",
              "</table>\n",
              "</div>\n",
              "      <button class=\"colab-df-convert\" onclick=\"convertToInteractive('df-293a9e4c-cc46-420a-97cb-e0792e89c005')\"\n",
              "              title=\"Convert this dataframe to an interactive table.\"\n",
              "              style=\"display:none;\">\n",
              "        \n",
              "  <svg xmlns=\"http://www.w3.org/2000/svg\" height=\"24px\"viewBox=\"0 0 24 24\"\n",
              "       width=\"24px\">\n",
              "    <path d=\"M0 0h24v24H0V0z\" fill=\"none\"/>\n",
              "    <path d=\"M18.56 5.44l.94 2.06.94-2.06 2.06-.94-2.06-.94-.94-2.06-.94 2.06-2.06.94zm-11 1L8.5 8.5l.94-2.06 2.06-.94-2.06-.94L8.5 2.5l-.94 2.06-2.06.94zm10 10l.94 2.06.94-2.06 2.06-.94-2.06-.94-.94-2.06-.94 2.06-2.06.94z\"/><path d=\"M17.41 7.96l-1.37-1.37c-.4-.4-.92-.59-1.43-.59-.52 0-1.04.2-1.43.59L10.3 9.45l-7.72 7.72c-.78.78-.78 2.05 0 2.83L4 21.41c.39.39.9.59 1.41.59.51 0 1.02-.2 1.41-.59l7.78-7.78 2.81-2.81c.8-.78.8-2.07 0-2.86zM5.41 20L4 18.59l7.72-7.72 1.47 1.35L5.41 20z\"/>\n",
              "  </svg>\n",
              "      </button>\n",
              "      \n",
              "  <style>\n",
              "    .colab-df-container {\n",
              "      display:flex;\n",
              "      flex-wrap:wrap;\n",
              "      gap: 12px;\n",
              "    }\n",
              "\n",
              "    .colab-df-convert {\n",
              "      background-color: #E8F0FE;\n",
              "      border: none;\n",
              "      border-radius: 50%;\n",
              "      cursor: pointer;\n",
              "      display: none;\n",
              "      fill: #1967D2;\n",
              "      height: 32px;\n",
              "      padding: 0 0 0 0;\n",
              "      width: 32px;\n",
              "    }\n",
              "\n",
              "    .colab-df-convert:hover {\n",
              "      background-color: #E2EBFA;\n",
              "      box-shadow: 0px 1px 2px rgba(60, 64, 67, 0.3), 0px 1px 3px 1px rgba(60, 64, 67, 0.15);\n",
              "      fill: #174EA6;\n",
              "    }\n",
              "\n",
              "    [theme=dark] .colab-df-convert {\n",
              "      background-color: #3B4455;\n",
              "      fill: #D2E3FC;\n",
              "    }\n",
              "\n",
              "    [theme=dark] .colab-df-convert:hover {\n",
              "      background-color: #434B5C;\n",
              "      box-shadow: 0px 1px 3px 1px rgba(0, 0, 0, 0.15);\n",
              "      filter: drop-shadow(0px 1px 2px rgba(0, 0, 0, 0.3));\n",
              "      fill: #FFFFFF;\n",
              "    }\n",
              "  </style>\n",
              "\n",
              "      <script>\n",
              "        const buttonEl =\n",
              "          document.querySelector('#df-293a9e4c-cc46-420a-97cb-e0792e89c005 button.colab-df-convert');\n",
              "        buttonEl.style.display =\n",
              "          google.colab.kernel.accessAllowed ? 'block' : 'none';\n",
              "\n",
              "        async function convertToInteractive(key) {\n",
              "          const element = document.querySelector('#df-293a9e4c-cc46-420a-97cb-e0792e89c005');\n",
              "          const dataTable =\n",
              "            await google.colab.kernel.invokeFunction('convertToInteractive',\n",
              "                                                     [key], {});\n",
              "          if (!dataTable) return;\n",
              "\n",
              "          const docLinkHtml = 'Like what you see? Visit the ' +\n",
              "            '<a target=\"_blank\" href=https://colab.research.google.com/notebooks/data_table.ipynb>data table notebook</a>'\n",
              "            + ' to learn more about interactive tables.';\n",
              "          element.innerHTML = '';\n",
              "          dataTable['output_type'] = 'display_data';\n",
              "          await google.colab.output.renderOutput(dataTable, element);\n",
              "          const docLink = document.createElement('div');\n",
              "          docLink.innerHTML = docLinkHtml;\n",
              "          element.appendChild(docLink);\n",
              "        }\n",
              "      </script>\n",
              "    </div>\n",
              "  </div>\n",
              "  "
            ]
          },
          "metadata": {},
          "execution_count": 4
        }
      ]
    },
    {
      "cell_type": "code",
      "metadata": {
        "id": "yU8gHQJjwzDa"
      },
      "source": [
        "cat_columns = ['Make', 'Model', 'Style', 'Fuel_type', 'Transmission']\n",
        "num_columns = ['Year', 'Distance', 'Engine_capacity(cm3)', 'Price(euro)', 'km_year']"
      ],
      "execution_count": 5,
      "outputs": []
    },
    {
      "cell_type": "markdown",
      "metadata": {
        "id": "MTGNgl5-vrUI"
      },
      "source": [
        "# Линейная регрессия своими руками"
      ]
    },
    {
      "cell_type": "markdown",
      "metadata": {
        "id": "r2z8Hff6vrUI"
      },
      "source": [
        "Проведем линейную регрессию только по численным столбцам. Их у нас будет 4. <br>\n",
        "Введем модель целевой переменной как\n",
        "$$ \\begin{align*}\n",
        "   & y_i = X_i W^T + \\epsilon_i , \n",
        "   \\end{align*}\n",
        "   $$\n",
        "где \n",
        "<ul>\n",
        "    <li> $y_i$ - целевой показаль предсказания для $i$ записи в наборе данных;</li>\n",
        "    <li> $X_i $ - набор входных параметров для $i$ результата ;</li>\n",
        "    <li> $W $ - набор весовых параметров, которые мы должны подобрать в моделе;</li>\n",
        "    <li> $\\epsilon_i$ - некоторый набор случайных (не объясняемых нашей моделью, остаточных) значений, мы будем считать их случайных шумом.  \n",
        "</ul>   \n",
        "    "
      ]
    },
    {
      "cell_type": "code",
      "metadata": {
        "scrolled": false,
        "id": "6OnWEhsqvrUJ",
        "colab": {
          "base_uri": "https://localhost:8080/",
          "height": 414
        },
        "outputId": "67aeb417-89b4-4bd5-e968-fd6c374bc897"
      },
      "source": [
        "df_num = df[num_columns].copy() # копируем только числовые столбцы\n",
        "\n",
        "df_num.info() # информация о датафрейме\n",
        "\n",
        "X, y = df_num.drop(columns = ['Price(euro)']).values, df_num['Price(euro)'].values\n",
        "\n",
        "features_names = df_num.drop(columns = ['Price(euro)']).columns\n",
        "\n",
        "X_train, X_test, y_train, y_test = train_test_split(X, y, test_size=0.3, random_state=42) # делим на тренировочную и тестовую выборку\n",
        "\n",
        "scaler  = MinMaxScaler() # тасуем выборку\n",
        "scaler.fit_transform(X_train)\n",
        "X_train = scaler.transform(X_train) \n",
        "X_test  = scaler.transform(X_test) \n",
        "\n",
        "pd.DataFrame(X_train).tail()"
      ],
      "execution_count": 7,
      "outputs": [
        {
          "output_type": "stream",
          "name": "stdout",
          "text": [
            "<class 'pandas.core.frame.DataFrame'>\n",
            "RangeIndex: 32074 entries, 0 to 32073\n",
            "Data columns (total 5 columns):\n",
            " #   Column                Non-Null Count  Dtype  \n",
            "---  ------                --------------  -----  \n",
            " 0   Year                  32074 non-null  int64  \n",
            " 1   Distance              32074 non-null  float64\n",
            " 2   Engine_capacity(cm3)  32074 non-null  float64\n",
            " 3   Price(euro)           32074 non-null  float64\n",
            " 4   km_year               32074 non-null  float64\n",
            "dtypes: float64(4), int64(1)\n",
            "memory usage: 1.2 MB\n"
          ]
        },
        {
          "output_type": "execute_result",
          "data": {
            "text/plain": [
              "          0         1         2         3\n",
              "22446  0.64  0.479896  0.353333  0.251134\n",
              "22447  0.74  0.465893  0.479167  0.331520\n",
              "22448  0.70  0.572360  0.333333  0.356492\n",
              "22449  0.70  0.581916  0.375000  0.362475\n",
              "22450  0.24  0.579916  0.000000  0.147012"
            ],
            "text/html": [
              "\n",
              "  <div id=\"df-266a40ab-d8d9-4da8-b917-8c7830652996\">\n",
              "    <div class=\"colab-df-container\">\n",
              "      <div>\n",
              "<style scoped>\n",
              "    .dataframe tbody tr th:only-of-type {\n",
              "        vertical-align: middle;\n",
              "    }\n",
              "\n",
              "    .dataframe tbody tr th {\n",
              "        vertical-align: top;\n",
              "    }\n",
              "\n",
              "    .dataframe thead th {\n",
              "        text-align: right;\n",
              "    }\n",
              "</style>\n",
              "<table border=\"1\" class=\"dataframe\">\n",
              "  <thead>\n",
              "    <tr style=\"text-align: right;\">\n",
              "      <th></th>\n",
              "      <th>0</th>\n",
              "      <th>1</th>\n",
              "      <th>2</th>\n",
              "      <th>3</th>\n",
              "    </tr>\n",
              "  </thead>\n",
              "  <tbody>\n",
              "    <tr>\n",
              "      <th>22446</th>\n",
              "      <td>0.64</td>\n",
              "      <td>0.479896</td>\n",
              "      <td>0.353333</td>\n",
              "      <td>0.251134</td>\n",
              "    </tr>\n",
              "    <tr>\n",
              "      <th>22447</th>\n",
              "      <td>0.74</td>\n",
              "      <td>0.465893</td>\n",
              "      <td>0.479167</td>\n",
              "      <td>0.331520</td>\n",
              "    </tr>\n",
              "    <tr>\n",
              "      <th>22448</th>\n",
              "      <td>0.70</td>\n",
              "      <td>0.572360</td>\n",
              "      <td>0.333333</td>\n",
              "      <td>0.356492</td>\n",
              "    </tr>\n",
              "    <tr>\n",
              "      <th>22449</th>\n",
              "      <td>0.70</td>\n",
              "      <td>0.581916</td>\n",
              "      <td>0.375000</td>\n",
              "      <td>0.362475</td>\n",
              "    </tr>\n",
              "    <tr>\n",
              "      <th>22450</th>\n",
              "      <td>0.24</td>\n",
              "      <td>0.579916</td>\n",
              "      <td>0.000000</td>\n",
              "      <td>0.147012</td>\n",
              "    </tr>\n",
              "  </tbody>\n",
              "</table>\n",
              "</div>\n",
              "      <button class=\"colab-df-convert\" onclick=\"convertToInteractive('df-266a40ab-d8d9-4da8-b917-8c7830652996')\"\n",
              "              title=\"Convert this dataframe to an interactive table.\"\n",
              "              style=\"display:none;\">\n",
              "        \n",
              "  <svg xmlns=\"http://www.w3.org/2000/svg\" height=\"24px\"viewBox=\"0 0 24 24\"\n",
              "       width=\"24px\">\n",
              "    <path d=\"M0 0h24v24H0V0z\" fill=\"none\"/>\n",
              "    <path d=\"M18.56 5.44l.94 2.06.94-2.06 2.06-.94-2.06-.94-.94-2.06-.94 2.06-2.06.94zm-11 1L8.5 8.5l.94-2.06 2.06-.94-2.06-.94L8.5 2.5l-.94 2.06-2.06.94zm10 10l.94 2.06.94-2.06 2.06-.94-2.06-.94-.94-2.06-.94 2.06-2.06.94z\"/><path d=\"M17.41 7.96l-1.37-1.37c-.4-.4-.92-.59-1.43-.59-.52 0-1.04.2-1.43.59L10.3 9.45l-7.72 7.72c-.78.78-.78 2.05 0 2.83L4 21.41c.39.39.9.59 1.41.59.51 0 1.02-.2 1.41-.59l7.78-7.78 2.81-2.81c.8-.78.8-2.07 0-2.86zM5.41 20L4 18.59l7.72-7.72 1.47 1.35L5.41 20z\"/>\n",
              "  </svg>\n",
              "      </button>\n",
              "      \n",
              "  <style>\n",
              "    .colab-df-container {\n",
              "      display:flex;\n",
              "      flex-wrap:wrap;\n",
              "      gap: 12px;\n",
              "    }\n",
              "\n",
              "    .colab-df-convert {\n",
              "      background-color: #E8F0FE;\n",
              "      border: none;\n",
              "      border-radius: 50%;\n",
              "      cursor: pointer;\n",
              "      display: none;\n",
              "      fill: #1967D2;\n",
              "      height: 32px;\n",
              "      padding: 0 0 0 0;\n",
              "      width: 32px;\n",
              "    }\n",
              "\n",
              "    .colab-df-convert:hover {\n",
              "      background-color: #E2EBFA;\n",
              "      box-shadow: 0px 1px 2px rgba(60, 64, 67, 0.3), 0px 1px 3px 1px rgba(60, 64, 67, 0.15);\n",
              "      fill: #174EA6;\n",
              "    }\n",
              "\n",
              "    [theme=dark] .colab-df-convert {\n",
              "      background-color: #3B4455;\n",
              "      fill: #D2E3FC;\n",
              "    }\n",
              "\n",
              "    [theme=dark] .colab-df-convert:hover {\n",
              "      background-color: #434B5C;\n",
              "      box-shadow: 0px 1px 3px 1px rgba(0, 0, 0, 0.15);\n",
              "      filter: drop-shadow(0px 1px 2px rgba(0, 0, 0, 0.3));\n",
              "      fill: #FFFFFF;\n",
              "    }\n",
              "  </style>\n",
              "\n",
              "      <script>\n",
              "        const buttonEl =\n",
              "          document.querySelector('#df-266a40ab-d8d9-4da8-b917-8c7830652996 button.colab-df-convert');\n",
              "        buttonEl.style.display =\n",
              "          google.colab.kernel.accessAllowed ? 'block' : 'none';\n",
              "\n",
              "        async function convertToInteractive(key) {\n",
              "          const element = document.querySelector('#df-266a40ab-d8d9-4da8-b917-8c7830652996');\n",
              "          const dataTable =\n",
              "            await google.colab.kernel.invokeFunction('convertToInteractive',\n",
              "                                                     [key], {});\n",
              "          if (!dataTable) return;\n",
              "\n",
              "          const docLinkHtml = 'Like what you see? Visit the ' +\n",
              "            '<a target=\"_blank\" href=https://colab.research.google.com/notebooks/data_table.ipynb>data table notebook</a>'\n",
              "            + ' to learn more about interactive tables.';\n",
              "          element.innerHTML = '';\n",
              "          dataTable['output_type'] = 'display_data';\n",
              "          await google.colab.output.renderOutput(dataTable, element);\n",
              "          const docLink = document.createElement('div');\n",
              "          docLink.innerHTML = docLinkHtml;\n",
              "          element.appendChild(docLink);\n",
              "        }\n",
              "      </script>\n",
              "    </div>\n",
              "  </div>\n",
              "  "
            ]
          },
          "metadata": {},
          "execution_count": 7
        }
      ]
    },
    {
      "cell_type": "code",
      "metadata": {
        "id": "mrcjMj8qvrUK"
      },
      "source": [
        "def forward(weights, inputs): # транспонируем матрицу с весами \n",
        "    return inputs.dot(weights.T)\n",
        "\n",
        "def loss_func(predicts, labels): #вводим функцию потерь регрессии как квадрат разности между целевыми значениями и их предсказаниями\n",
        "        return np.square(predicts - labels)  "
      ],
      "execution_count": 8,
      "outputs": []
    },
    {
      "cell_type": "markdown",
      "metadata": {
        "id": "ilX_YOvjvrUK"
      },
      "source": [
        "Протестируем обе функции"
      ]
    },
    {
      "cell_type": "code",
      "metadata": {
        "id": "bkokjt3HvrUL",
        "colab": {
          "base_uri": "https://localhost:8080/"
        },
        "outputId": "7d1fc88b-e53d-4f2a-d452-0cedb8089d42"
      },
      "source": [
        "weights = np.random.randn(X.shape[1])\n",
        "print(weights)\n",
        "yhat = forward(weights, X_train[0])\n",
        "loss = np.sqrt(loss_func(yhat, y[0]))\n",
        "print(yhat, y[0], loss)"
      ],
      "execution_count": 9,
      "outputs": [
        {
          "output_type": "stream",
          "name": "stdout",
          "text": [
            "[ 0.24313717  1.42265959 -0.60357963 -0.22015101]\n",
            "0.8523127698240611 7750.0 7749.1476872301755\n"
          ]
        }
      ]
    },
    {
      "cell_type": "markdown",
      "metadata": {
        "id": "bYKNIyYvvrUL"
      },
      "source": [
        "Посмотрим на график того как меняется функция потерь в зависимости от отклонения (мультипликативного) оценки результата от его истинного значения."
      ]
    },
    {
      "cell_type": "code",
      "metadata": {
        "scrolled": true,
        "id": "s31IgljxvrUM",
        "colab": {
          "base_uri": "https://localhost:8080/",
          "height": 276
        },
        "outputId": "4deddfe3-cf07-4547-f9d9-0d74f10faf2e"
      },
      "source": [
        "decline = np.linspace(start = 0.5, stop = 1.5, num = 15)\n",
        "yhat = decline * y[0]\n",
        "loss = loss_func(yhat, y[0])\n",
        "plt.plot(decline, loss, '-o'); plt.grid(); "
      ],
      "execution_count": 11,
      "outputs": [
        {
          "output_type": "display_data",
          "data": {
            "text/plain": [
              "<Figure size 432x288 with 1 Axes>"
            ],
            "image/png": "[encoded data removed]"
          },
          "metadata": {
            "needs_background": "light"
          }
        }
      ]
    },
    {
      "cell_type": "code",
      "metadata": {
        "id": "aC6JJB46vrUN"
      },
      "source": [
        "def grad_loss(predicts, labels, inputs): #  производная функции потерь по набору оптимизируемых параметров\n",
        "    return 2*(predicts - labels)*inputs/inputs.size"
      ],
      "execution_count": 12,
      "outputs": []
    },
    {
      "cell_type": "markdown",
      "metadata": {
        "id": "Og9eLo25vrUN"
      },
      "source": [
        "Проведем расчет градиента ошибки"
      ]
    },
    {
      "cell_type": "code",
      "metadata": {
        "id": "z0BmhZbWvrUO",
        "colab": {
          "base_uri": "https://localhost:8080/"
        },
        "outputId": "fd15254a-9e51-4e4d-d814-1ae1a58cede9"
      },
      "source": [
        "weights = np.random.randn(X.shape[1])\n",
        "yhat = forward(weights, X_train[0])\n",
        "print(weights)\n",
        "grad = grad_loss(yhat, y[0], X[0])\n",
        "print(grad)"
      ],
      "execution_count": 13,
      "outputs": [
        {
          "output_type": "stream",
          "name": "stdout",
          "text": [
            "[ 0.58069895  2.07075919  0.72885858 -0.861959  ]\n",
            "[-7.79081879e+06 -7.55449858e+08 -6.97338331e+06 -6.86772598e+07]\n"
          ]
        }
      ]
    },
    {
      "cell_type": "code",
      "metadata": {
        "id": "PjRCOOKhvrUP"
      },
      "source": [
        "def update_weights(grad, weights, learning_rate): # обновляем веса в грудиентном спуске\n",
        "    return weights - learning_rate * grad"
      ],
      "execution_count": 32,
      "outputs": []
    },
    {
      "cell_type": "code",
      "metadata": {
        "scrolled": true,
        "id": "Ty0aGmPhvrUQ",
        "colab": {
          "base_uri": "https://localhost:8080/"
        },
        "outputId": "fa376ec7-397c-477e-f72c-3cb63e0345e1"
      },
      "source": [
        "learning_rate = 0.06\n",
        "weights = update_weights(grad, weights, learning_rate)\n",
        "print(weights)"
      ],
      "execution_count": 33,
      "outputs": [
        {
          "output_type": "stream",
          "name": "stdout",
          "text": [
            "[  470600.23538472 45328037.80221292   419918.79330233  4121849.6796643 ]\n"
          ]
        }
      ]
    },
    {
      "cell_type": "code",
      "metadata": {
        "id": "XAMxKPuRvrUR"
      },
      "source": [
        "def weights_init(weights, random_state = 43): # выбираем начальные значения весовых параметров случайными значениями \n",
        "    if np.ndim(weights)<1:\n",
        "        weights = np.zeros(weights)\n",
        "        \n",
        "    np.random.seed(random_state)\n",
        "    return np.random.randn(*weights.shape)/np.sqrt(weights.size)"
      ],
      "execution_count": 43,
      "outputs": []
    },
    {
      "cell_type": "code",
      "metadata": {
        "colab": {
          "base_uri": "https://localhost:8080/"
        },
        "id": "fYyoPttfzc1u",
        "outputId": "5675ccc3-41d9-42be-9ff3-5745d649a2e9"
      },
      "source": [
        "weights = weights_init(X_train.shape[1], random_state = 43)\n",
        "weights"
      ],
      "execution_count": 44,
      "outputs": [
        {
          "output_type": "execute_result",
          "data": {
            "text/plain": [
              "array([ 0.12869996, -0.45424072, -0.18925155, -0.2674578 ])"
            ]
          },
          "metadata": {},
          "execution_count": 44
        }
      ]
    },
    {
      "cell_type": "code",
      "metadata": {
        "id": "kuldi9IDvrUS"
      },
      "source": [
        "def fit(X, y, weights, lr, epochs = 31):  # обучение модели методом градиентного спуска\n",
        "    \n",
        "    cost = np.zeros(epochs)  \n",
        "    for i in range(epochs): \n",
        "        \n",
        "        grad = np.zeros(weights.shape);\n",
        "        loss = 0;\n",
        "        \n",
        "        for m in range(X.shape[0]): \n",
        "            yhat  = forward(weights, X[m,:])\n",
        "            grad += grad_loss(yhat,  y[m], X[m,:])\n",
        "            loss += loss_func(yhat,  y[m])\n",
        "\n",
        "        weights = update_weights(grad/X.shape[0],weights, lr)  \n",
        "        cost[i] = loss/X.shape[0]\n",
        "    \n",
        "    return weights, cost # график функции потерь"
      ],
      "execution_count": 45,
      "outputs": []
    },
    {
      "cell_type": "markdown",
      "metadata": {
        "id": "JZWAy5Q1vrUS"
      },
      "source": [
        "Протестируем обучение"
      ]
    },
    {
      "cell_type": "code",
      "source": [
        "def plot_cost(cost):\n",
        "    plt.plot(cost, 'o-', linewidth = 4, markersize = 15, mfc = 'none' ); \n",
        "    plt.grid()\n",
        "    plt.xlabel(\"Эпоха\", fontsize = 35)\n",
        "    plt.ylabel(\"Функция Потерь\", fontsize = 35)\n",
        "    plt.xticks(FontSize = 25)\n",
        "\n",
        "    plt.yticks(FontSize = 25);  "
      ],
      "metadata": {
        "id": "UqJRiEOaReIW"
      },
      "execution_count": 46,
      "outputs": []
    },
    {
      "cell_type": "code",
      "metadata": {
        "scrolled": false,
        "id": "cb3bTZcFvrUS",
        "colab": {
          "base_uri": "https://localhost:8080/",
          "height": 491
        },
        "outputId": "5609eb4c-84ae-49f2-f247-9914a94ca0a6"
      },
      "source": [
        "weights = weights_init(X_train.shape[1], random_state = 43)\n",
        "\n",
        "weights, cost = fit(X_train, y_train, weights, lr=0.8,  epochs=100)\n",
        "\n",
        "fig  = plt.figure(figsize = (15,7))\n",
        "plot_cost(cost);"
      ],
      "execution_count": 47,
      "outputs": [
        {
          "output_type": "display_data",
          "data": {
            "text/plain": [
              "<Figure size 1080x504 with 1 Axes>"
            ],
            "image/png": "[encoded data removed]"
          },
          "metadata": {
            "needs_background": "light"
          }
        }
      ]
    },
    {
      "cell_type": "code",
      "metadata": {
        "id": "ocOxvRRWvrUT"
      },
      "source": [
        "def predict(weights, inputs):\n",
        "    yhat = np.zeros(inputs.shape[0])\n",
        "    \n",
        "    for m in range(inputs.shape[0]):\n",
        "        yhat[m] = inputs[m,:].dot(weights.T)\n",
        "    \n",
        "    return yhat"
      ],
      "execution_count": 48,
      "outputs": []
    },
    {
      "cell_type": "markdown",
      "metadata": {
        "id": "s2x6OpRBvrUa"
      },
      "source": [
        "Посмотрим, как выглядят предсказанные ответы на фоне реальных"
      ]
    },
    {
      "cell_type": "code",
      "metadata": {
        "id": "hkT2Y3lVvrUa",
        "colab": {
          "base_uri": "https://localhost:8080/",
          "height": 265
        },
        "outputId": "82dabc46-e064-48a7-a3cf-979295130641"
      },
      "source": [
        "yhat = predict(weights, X_test)\n",
        "plt.plot(y_test, label = 'original')\n",
        "plt.plot(yhat, label = 'predicted');"
      ],
      "execution_count": 49,
      "outputs": [
        {
          "output_type": "display_data",
          "data": {
            "text/plain": [
              "<Figure size 432x288 with 1 Axes>"
            ],
            "image/png": "[encoded data removed]"
          },
          "metadata": {
            "needs_background": "light"
          }
        }
      ]
    },
    {
      "cell_type": "code",
      "metadata": {
        "colab": {
          "base_uri": "https://localhost:8080/",
          "height": 279
        },
        "id": "OYEh7Q9g0kg5",
        "outputId": "49f16da2-f125-4c62-dbd0-3376a8ceacf0"
      },
      "source": [
        "plt.scatter(y_test, yhat, alpha = 0.7)\n",
        "plt.plot([y_test.min(), y_test.max()], [y_test.min(), y_test.max()], 'r')\n",
        "plt.xlabel('original')\n",
        "plt.ylabel('predicted');"
      ],
      "execution_count": 50,
      "outputs": [
        {
          "output_type": "display_data",
          "data": {
            "text/plain": [
              "<Figure size 432x288 with 1 Axes>"
            ],
            "image/png": "[encoded data removed]"
          },
          "metadata": {
            "needs_background": "light"
          }
        }
      ]
    },
    {
      "cell_type": "code",
      "metadata": {
        "id": "q4HyX2IXvrUd"
      },
      "source": [
        "BATCH = 5000 # рассматриваем только часть данных, то есть мини-пакет(батч), в котором 5000 элементов данных\n",
        "\n",
        "def fit_SGD(X, y, weights, lr,  epochs=31, batch_size = BATCH, random_state = 43):\n",
        "    \n",
        "    np.random.seed(random_state)\n",
        "    \n",
        "    cost = np.zeros(epochs)\n",
        "    for i in range(epochs): \n",
        "        \n",
        "        grad = np.zeros(weights.shape);\n",
        "        loss = 0;\n",
        "        \n",
        "        idx_batch = np.random.randint(0,X.shape[0],batch_size)\n",
        "        x_batch   = np.take(X, idx_batch, axis=0)\n",
        "        y_batch   = np.take(y, idx_batch)\n",
        "\n",
        "        \n",
        "        for m in range(batch_size): \n",
        "            yhat = forward(weights, x_batch[m,:])\n",
        "            grad += grad_loss(yhat, y_batch[m], x_batch[m,:])\n",
        "            loss += loss_func(yhat, y_batch[m])\n",
        "\n",
        "        weights  = update_weights(grad/batch_size, weights, lr)  \n",
        "        cost[i] = loss/batch_size\n",
        "    \n",
        "    return weights, cost"
      ],
      "execution_count": 53,
      "outputs": []
    },
    {
      "cell_type": "code",
      "source": [
        "def vis_weigths(weights, names):\n",
        "    numbers = np.arange(0,len(weights))\n",
        "    tick_labels = names\n",
        "    cc=['']*len(numbers)\n",
        "    for n,val in enumerate(weights):\n",
        "        if val<0:\n",
        "            cc[n]='red'\n",
        "        elif val>=0:\n",
        "            cc[n]='blue'\n",
        "\n",
        "    plt.bar(x = numbers, height = weights, color = cc)\n",
        "    plt.xticks(np.arange(0,len(weights)),tick_labels, rotation = 45 );"
      ],
      "metadata": {
        "id": "wMPLHjHFRsJZ"
      },
      "execution_count": 63,
      "outputs": []
    },
    {
      "cell_type": "markdown",
      "source": [
        "# Оценим модель "
      ],
      "metadata": {
        "id": "piQPC1D9pXMb"
      }
    },
    {
      "cell_type": "markdown",
      "source": [
        "## Средняя квадратическая ошибка(MSE)"
      ],
      "metadata": {
        "id": "C5nocQqZpb0n"
      }
    },
    {
      "cell_type": "code",
      "source": [
        "def mean_square_error(weights, inputs, labels):\n",
        "    predicts = predict(weights, inputs)\n",
        "    return np.mean(np.sum(np.square(labels-predicts)))"
      ],
      "metadata": {
        "id": "jhKyduQNpMWE"
      },
      "execution_count": 66,
      "outputs": []
    },
    {
      "cell_type": "code",
      "source": [
        "mean_square_error(weights, X_test, y_test)"
      ],
      "metadata": {
        "colab": {
          "base_uri": "https://localhost:8080/"
        },
        "id": "50-RxzJBpOnJ",
        "outputId": "3dbd7916-3128-4afb-c066-1d64bdb682fe"
      },
      "execution_count": 67,
      "outputs": [
        {
          "output_type": "execute_result",
          "data": {
            "text/plain": [
              "584164191953.0544"
            ]
          },
          "metadata": {},
          "execution_count": 67
        }
      ]
    },
    {
      "cell_type": "markdown",
      "source": [
        "## Средняя абсолютная ошибка(MAE)"
      ],
      "metadata": {
        "id": "avYRi42fpmSi"
      }
    },
    {
      "cell_type": "code",
      "source": [
        "def mean_absolute_error(weights, inputs, labels):\n",
        "    predicts = predict(weights, inputs)\n",
        "    return np.mean(np.sum(np.abs(labels-predicts)))"
      ],
      "metadata": {
        "id": "P9Zrn3YZpwPy"
      },
      "execution_count": 68,
      "outputs": []
    },
    {
      "cell_type": "code",
      "source": [
        "mean_absolute_error(weights, X_test, y_test)"
      ],
      "metadata": {
        "colab": {
          "base_uri": "https://localhost:8080/"
        },
        "id": "orhv4aKdpyTd",
        "outputId": "08c9fb77-cb36-4ad1-b5e5-e205e3cdfe57"
      },
      "execution_count": 69,
      "outputs": [
        {
          "output_type": "execute_result",
          "data": {
            "text/plain": [
              "45518060.20824146"
            ]
          },
          "metadata": {},
          "execution_count": 69
        }
      ]
    },
    {
      "cell_type": "markdown",
      "source": [
        "Коэффициент детерминации"
      ],
      "metadata": {
        "id": "iGGS3aKLp1eF"
      }
    },
    {
      "cell_type": "code",
      "source": [
        "def r2_score(weights, inputs, labels): # Л2 регуляризация\n",
        "    predicts = predict(weights, inputs)\n",
        "    return 1-np.sum(np.square(labels - predicts)) /np.sum(np.square(labels - np.mean(labels)))"
      ],
      "metadata": {
        "id": "X60VOANxp0gM"
      },
      "execution_count": 70,
      "outputs": []
    },
    {
      "cell_type": "code",
      "source": [
        "r2_score(weights, X_test, y_test)"
      ],
      "metadata": {
        "colab": {
          "base_uri": "https://localhost:8080/"
        },
        "id": "wWcRCksWqDHR",
        "outputId": "7eb443e8-9d68-4034-d267-9ac89db46989"
      },
      "execution_count": 71,
      "outputs": [
        {
          "output_type": "execute_result",
          "data": {
            "text/plain": [
              "0.3788977261348081"
            ]
          },
          "metadata": {},
          "execution_count": 71
        }
      ]
    },
    {
      "cell_type": "markdown",
      "source": [
        "Объединяем всё в один класс"
      ],
      "metadata": {
        "id": "h793I5F6rJ3Q"
      }
    },
    {
      "cell_type": "code",
      "source": [
        "class LinearRegression():\n",
        "    def __init__(self, \n",
        "                 learning_rate = 0.5, \n",
        "                 epochs = 100, \n",
        "                 weights = None, \n",
        "                 bias    = None, \n",
        "                 batch_size   = 1000, \n",
        "                 random_state = 42):\n",
        "        self.lr      = learning_rate\n",
        "        self.epochs  = epochs\n",
        "        self.weights = weights\n",
        "        self.bias    = bias\n",
        "        self.seed    = random_state\n",
        "        self.batch_size = batch_size\n",
        "        self.cost    = np.zeros(epochs)\n",
        "        \n",
        "        # если веса и смещения заданы\n",
        "        if not(self.weights is None) and (self.bias):\n",
        "            if self.weights.size == X.shape[1]:\n",
        "            #совмещаем в один массив, если мы этого не сделали\n",
        "                self.weights = np.append(self.bias,self.weights)\n",
        "    \n",
        "    #---------------------------------\n",
        "    def forward(self, X):\n",
        "        return self.weights.dot(X.T)\n",
        "    \n",
        "    #---------------------------------\n",
        "    def loss(self,yhat, y):\n",
        "        return np.square(yhat - y).sum()/y.size\n",
        "    \n",
        "    #---------------------------------\n",
        "    def grad_step(self,yhat, y, X):\n",
        "        return 2*np.dot(X.T, (yhat - y)) / y.size\n",
        "    \n",
        "    #---------------------------------\n",
        "    def update(self):    \n",
        "        return self.weights - self.lr*self.grad\n",
        "    \n",
        "    #---------------------------------\n",
        "    def init(self, weights_size):\n",
        "        np.random.seed(self.seed)\n",
        "        return np.random.randn(weights_size)/np.sqrt(weights_size)\n",
        "    \n",
        "    #---------------------------------\n",
        "    def add_bias(self, X):\n",
        "        return np.column_stack((np.ones(X.shape[0]), X))\n",
        "\n",
        "    #---------------------------------\n",
        "    def predict(self, X):\n",
        "        yhat = self.forward(self.add_bias(X))\n",
        "        return yhat\n",
        "    \n",
        "    #---------------------------------\n",
        "    def score(self, X, y):        \n",
        "        yhat = self.predict(X)\n",
        "        return 1-np.sum(np.square(y-yhat))/np.sum(np.square(y-np.mean(y)))\n",
        "\n",
        "     #---------------------------------\n",
        "    def load_batch(self,X,y):\n",
        "        idx_batch = np.random.randint(0,X.shape[0],self.batch_size)\n",
        "        x_batch   = np.take(X, idx_batch, axis=0)\n",
        "        x_batch   = self.add_bias(x_batch)\n",
        "        y_batch   = np.take(y, idx_batch)\n",
        "        return  x_batch, y_batch\n",
        "\n",
        "    #---------------------------------\n",
        "    def fit(self, X, y):\n",
        "\n",
        "        np.random.seed(self.seed)\n",
        "        \n",
        "        if self.weights is None:\n",
        "            self.weights = self.init(X.shape[1])\n",
        "        \n",
        "        if self.bias is None: \n",
        "            self.bias    = self.init(1)\n",
        "        \n",
        "        if self.weights.size == X.shape[1]:\n",
        "            #совмещаем в один массив, если мы этого не сделали\n",
        "            self.weights = np.append(self.bias,self.weights)\n",
        "        \n",
        "        self.grad    = np.zeros(self.weights.shape)\n",
        "        self.cost    = np.zeros(self.epochs)\n",
        "\n",
        "        if self.batch_size is None:            \n",
        "            x_batch   = self.add_bias(X)\n",
        "            y_batch   = y\n",
        "        \n",
        "        for i in range(self.epochs): \n",
        "\n",
        "            if self.batch_size: \n",
        "                x_batch, y_batch = self.load_batch(X,y)\n",
        "\n",
        "            yhat         = self.forward(x_batch)\n",
        "            self.grad    = self.grad_step(yhat,  y_batch, x_batch) \n",
        "            self.weights = self.update()  \n",
        "            self.cost[i] = self.loss(yhat,  y_batch)\n",
        "\n",
        "        self.bias = self.weights[0]\n",
        "     \n",
        "    #---------------------------------\n",
        "    def plot_cost(self, figsize = (12,6), title = ''):\n",
        "        plt.figure(figsize = figsize)\n",
        "        plt.plot(self.cost)\n",
        "        plt.grid()\n",
        "        plt.xlabel('Эпоха', fontsize = 24)\n",
        "        plt.ylabel('Функция Потерь', fontsize = 24)\n",
        "        plt.title(title, fontsize = 24)\n",
        "        plt.show()\n",
        "    \n",
        "    #---------------------------------\n",
        "    def get_w_and_b(self):\n",
        "        return (self.weights[1:], self.bias)"
      ],
      "metadata": {
        "id": "xErBqN0NrISl"
      },
      "execution_count": null,
      "outputs": []
    },
    {
      "cell_type": "markdown",
      "metadata": {
        "id": "FieehK7kvrUg"
      },
      "source": [
        "# Регуляризация линейной регрессии"
      ]
    },
    {
      "cell_type": "markdown",
      "metadata": {
        "id": "NhT4i3mLvrUh"
      },
      "source": [
        "### Регуляризация Тихонова"
      ]
    },
    {
      "cell_type": "code",
      "metadata": {
        "id": "tInnlKvQvrUi"
      },
      "source": [
        "class RidgeRegression(LinearRegression):\n",
        "    def __init__(self, \n",
        "                 learning_rate = 0.5,\n",
        "                 l2_penalty = 0.001,\n",
        "                 epochs = 100, \n",
        "                 weights = None, \n",
        "                 bias    = None, \n",
        "                 batch_size   = 1000, \n",
        "                 random_state = 42):\n",
        "        \n",
        "        super().__init__(learning_rate = learning_rate,\n",
        "                         epochs = epochs, \n",
        "                         weights = weights, \n",
        "                         bias    = bias, \n",
        "                         batch_size   = batch_size, \n",
        "                         random_state = random_state)\n",
        "        self.l2_penalty = l2_penalty\n",
        "    #---------------------------------\n",
        "    def loss(self,yhat, y):   \n",
        "        l2_term = (self.l2_penalty/2)*np.sum(np.square(self.weights[1:]))\n",
        "        return np.square(yhat - y).mean() + l2_term\n",
        "                  \n",
        "    \n",
        "    #---------------------------------\n",
        "    def update(self):    \n",
        "        l2_term = self.l2_penalty*np.sum(self.weights[1:])\n",
        "        return self.weights - self.lr*(self.grad + l2_term) \n"
      ],
      "execution_count": null,
      "outputs": []
    },
    {
      "cell_type": "code",
      "metadata": {
        "scrolled": true,
        "id": "P3IYye0AvrUi",
        "colab": {
          "base_uri": "https://localhost:8080/",
          "height": 430
        },
        "outputId": "889c6957-cdb3-4884-e235-213fd2da2547"
      },
      "source": [
        "regr = RidgeRegression(learning_rate=0.5,epochs=300,batch_size=3000, l2_penalty = 0.001)\n",
        "regr.fit(X_train, y_train)\n",
        "\n",
        "regr.plot_cost()\n",
        "\n",
        "print( 'train R2: %.4f; test R2: %.4f' % (regr.score(X_train, y_train), regr.score(X_test, y_test)))"
      ],
      "execution_count": null,
      "outputs": [
        {
          "output_type": "display_data",
          "data": {
            "text/plain": [
              "<Figure size 864x432 with 1 Axes>"
            ],
            "image/png": "[encoded data removed]"
          },
          "metadata": {
            "needs_background": "light"
          }
        },
        {
          "output_type": "stream",
          "name": "stdout",
          "text": [
            "train R2: 0.4858; test R2: 0.4975\n"
          ]
        }
      ]
    },
    {
      "cell_type": "markdown",
      "metadata": {
        "id": "t4XWWXv2vrUj"
      },
      "source": [
        "посмотрим веса"
      ]
    },
    {
      "cell_type": "code",
      "metadata": {
        "id": "fNbJ94EevrUj",
        "colab": {
          "base_uri": "https://localhost:8080/",
          "height": 341
        },
        "outputId": "e2a30f9a-5671-42ab-c823-3aeb5eb0970c"
      },
      "source": [
        "w, b = regr.get_w_and_b()\n",
        "\n",
        "vis_weigths(w, features_names)"
      ],
      "execution_count": null,
      "outputs": [
        {
          "output_type": "display_data",
          "data": {
            "text/plain": [
              "<Figure size 432x288 with 1 Axes>"
            ],
            "image/png": "[encoded data removed]"
          },
          "metadata": {
            "needs_background": "light"
          }
        }
      ]
    },
    {
      "cell_type": "code",
      "source": [
        "np.sum(np.abs(w))"
      ],
      "metadata": {
        "colab": {
          "base_uri": "https://localhost:8080/"
        },
        "id": "PF-wLNiISXjQ",
        "outputId": "bc929d1d-9c21-452e-f708-571540bd3139"
      },
      "execution_count": null,
      "outputs": [
        {
          "output_type": "execute_result",
          "data": {
            "text/plain": [
              "78317.62048064734"
            ]
          },
          "metadata": {},
          "execution_count": 82
        }
      ]
    }
  ]
}